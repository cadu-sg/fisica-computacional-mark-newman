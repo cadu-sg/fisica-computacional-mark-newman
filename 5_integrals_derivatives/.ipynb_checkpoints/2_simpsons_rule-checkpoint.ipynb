{
 "cells": [
  {
   "cell_type": "markdown",
   "metadata": {},
   "source": [
    "# Regra de Simpson\n",
    "\n",
    "Podemos obter uma melhor aproximação se aproximarmos a função com curvas de algum tipo.\n",
    "\n",
    "A regra de Simpson usa curvas quadráticas para aproximar a função ao redor de três pontos. Então, esse método toma um par de fatias adjacentes e ajusta uma quadrática através dos três pontos que marcam as fronteiras dessas fatias.\n",
    "\n",
    "![](assets/simpsons_rule_1.png)\n",
    "\n",
    "A regra de Simpson envolve aproximar a função a ser integrada com quadráticas dessa forma, e então calcular a área abaixo dessas quadráticas, o que dá uma aproximação para a área abaixo da curva real.\n",
    "\n",
    "Suponha que nossa função a ser integrada é $f(x)$ e que o espaçamento entre pontos adjacentes é $h$. E suponha para fins de argumentação que temos três pontos no eixo x: $-h$, $0$ e $+h$. Se ajustarmos uma quadrática $Ax^2 + Bx + C$ através desses pontos, então por definição teremos:\n",
    "\n",
    "$$\n",
    "f(-h) = Ah^2 - Bh + C, \\quad f(0)=C, \\quad f(h) = Ah^2  + Bh + C\n",
    "$$\n",
    "\n",
    "Resolver essas equações simultâneamente para A, B e C nos dá\n",
    "\n",
    "$$\n",
    "A=\\frac{1}{h^2}\\big[\\tfrac{1}{2}f(-h)-f(0)+\\tfrac{1}{2}f(h)\\big], \\quad B=\\frac{1}{2h}[f(h)-f(-h)], \\quad C=f(0)\n",
    "$$\n",
    "\n",
    "E a área abaixo da quadrática $Ax^2 + Bx + C$ de $-h$ até $+h$ é dada analíticamente por:\n",
    "\n",
    "$$\n",
    "\\int_{-h}^h (Ax^2+Bx+C)dx = \\tfrac{2}{3}Ah^3+2Ch  \\\\\n",
    "= \\tfrac{1}{3}h[f(-h)+4f(0)+f(h)]\n",
    "$$\n",
    "\n",
    "Essa é uma aproximação para área abaixo de duas fatias adjacentes da nossa função. Note que formula final envolve apenas $h$ e o valor da função em pontos igualmente espaçados $f(-h)$, $f(0)$ e $f(h)$. Então, na regra de Simpson não precisamos nos preocupar com os detalhes de ajustar uma quadrática, basta apenas colocar os números na fórmula e ela nos dá a resposta.\n",
    "\n",
    "Para usar a regra de Simpson para performar uma integral geral basta notar que essa equação não depende que nossos três pontos em x sejam $-h$, $0$ e $+h$. Se fôssemos deslizar a curva através do eixo x para valores maiores ou menores, a área abaixo dela não mudaria. Então, **podemos usar a mesma regra para quaisquer três pontos uniformemente espaçados**. Aplicar a regra de Simpson envolve dividir o domínio de integração em várias fatias e usar a regra para estimar separadamente a área abaixo de pares sucessivos de fatias, e então somar o resultado de todos os pares para obter o resultado final. Se, como antes, estivermos integrando de $x=a$ até $x=b$ em fatias de largura $h$ então os três pontos em fronteira com o primeiro par de fatias caem em $x=a$, $x=a+h$ e $x=a+2h$. Então o valor aproximado da integral é dado por:\n",
    "\n",
    "$$\n",
    "I(a,b) = \\tfrac{1}{3}h \\big[ f(a) + f(b) + 4 \\sum_{k \\, \\text{impar} \\\\ 1...N-1} f(a + kh) + 2 \\sum_{k \\, \\text{par} \\\\ 2...N-2} f(a + kh) \\big]\n",
    "$$"
   ]
  },
  {
   "cell_type": "code",
   "execution_count": 1,
   "metadata": {},
   "outputs": [
    {
     "name": "stdout",
     "output_type": "stream",
     "text": [
      "19910.00013333334\n",
      "(19910.000000000004, 2.2104658856286096e-10)\n"
     ]
    }
   ],
   "source": [
    "from scipy.integrate import quad\n",
    "\n",
    "# Integração por regra de Simpson dada uma função\n",
    "# -----------------------------------------------\n",
    "def integrate_simps(func, a, b, n):\n",
    "    h = (b - a) / n\n",
    "    \n",
    "    odd_sum = sum([func(a + k * h) for k in range(1, n, 2)])\n",
    "    \n",
    "    even_sum = sum([func(a + k * h) for k in range(2, n, 2)])\n",
    "    \n",
    "    return (h / 3) * (func(a) + func(b) + 4 * odd_sum + 2 * even_sum)\n",
    "\n",
    "def f(x):\n",
    "    return x**4 -2*x + 1\n",
    "\n",
    "a = 0.0   # limite inferior\n",
    "b = 10.0  # limite superior\n",
    "n = 100   # quantidade de fatias\n",
    "\n",
    "print(integrate_simps(f, a, b, n))\n",
    "print(quad(f, a, b))"
   ]
  }
 ],
 "metadata": {
  "kernelspec": {
   "display_name": "Python 3",
   "language": "python",
   "name": "python3"
  },
  "language_info": {
   "codemirror_mode": {
    "name": "ipython",
    "version": 3
   },
   "file_extension": ".py",
   "mimetype": "text/x-python",
   "name": "python",
   "nbconvert_exporter": "python",
   "pygments_lexer": "ipython3",
   "version": "3.8.5"
  }
 },
 "nbformat": 4,
 "nbformat_minor": 4
}
