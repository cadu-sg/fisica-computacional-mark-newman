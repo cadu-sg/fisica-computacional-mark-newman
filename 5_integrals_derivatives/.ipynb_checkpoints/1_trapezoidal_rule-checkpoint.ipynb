{
 "cells": [
  {
   "cell_type": "markdown",
   "metadata": {},
   "source": [
    "# Regra dos trapézios"
   ]
  },
  {
   "cell_type": "markdown",
   "metadata": {},
   "source": [
    "- $a$ limite inferior\n",
    "- $b$ limite superior\n",
    "- $n$ quantidade de fatias\n",
    "- $h = (b - a) \\, / \\, n$ largura de cada fatia"
   ]
  },
  {
   "cell_type": "markdown",
   "metadata": {},
   "source": [
    "### Regra dos trapézios ingênua\n",
    "\n",
    "Área do trapézio\n",
    "$$\n",
    "A = \\frac{(B + b) \\cdot h}{2}\n",
    "$$\n",
    "\n",
    "$x_i$\n",
    "$$\n",
    "x_i = a + i \\cdot h\n",
    "$$\n",
    "\n",
    "Área do trapézio $A_i$\n",
    "$$\n",
    "A_i = \\frac{(x_i + x_{i+1}) \\cdot h}{2}\n",
    "$$\n",
    "\n",
    "Regra do trapézio\n",
    "$$\n",
    "\\begin{align}\n",
    "I &= \\sum_{i=0}^{n-1} A_i \\\\\n",
    "I &= \\sum_{i=0}^{n-1} \\frac{(f(x_i) + f(x_{i+1})) \\cdot h}{2} \\\\\n",
    "I &= \\frac{h}{2} \\cdot \\sum_{i=0}^{n-1} f(x_i) + f(x_{i+1})\n",
    "\\end{align}\n",
    "$$"
   ]
  },
  {
   "cell_type": "code",
   "execution_count": null,
   "metadata": {},
   "outputs": [],
   "source": [
    "# REGRA DOS TRAPÉZIOS ESTENDIDA (Implementação ingênua)\n",
    "# -----------------------------------------------------\n",
    "\n",
    "a = 2.0         # limite inferior\n",
    "b = 8.0         # limite superior\n",
    "n = 3           # quantidade de fatias\n",
    "h = (b - a) / n # largura de cada fatia\n",
    "\n",
    "s = 0\n",
    "for i in range(n):\n",
    "    x_i = a + i * h\n",
    "    x_i1 = a + (i + 1) * h\n",
    "    s += f(x_i) + f(x_i1)\n",
    "\n",
    "s *= h / 2\n",
    "\n",
    "print(s)"
   ]
  },
  {
   "cell_type": "markdown",
   "metadata": {},
   "source": [
    "### Regra dos trapézios eficiente\n",
    "\n",
    "$x_i$\n",
    "$$\n",
    "\\begin{align}\n",
    "x_0 &= a \\\\\n",
    "x_1 &= a + h \\\\\n",
    "x_2 &= a + 2 \\cdot h \\\\\n",
    "x_3 &= a + 3 \\cdot h \\\\\n",
    "x_4 &= b \\\\\n",
    "\\\\\n",
    "x_i &= a + i \\cdot h\n",
    "\\end{align}\n",
    "$$\n",
    "\n",
    "Área do trapézio $A_i$\n",
    "$$\n",
    "\\begin{align}\n",
    "A_0 &= \\frac{(f(a) + f(x_1)) \\cdot h}{2} \\\\\n",
    "A_1 &= \\frac{(f(x_1) + f(x_2)) \\cdot h}{2} \\\\\n",
    "A_2 &= \\frac{(f(x_2) + f(x_3)) \\cdot h}{2} \\\\\n",
    "A_3 &= \\frac{(f(x_3) + f(b)) \\cdot h}{2} \\\\\n",
    "\\\\\n",
    "A_i &= \\frac{(x_i + x_{i+1}) \\cdot h}{2}\n",
    "\\end{align}\n",
    "$$\n",
    "\n",
    "Regra do trapézio\n",
    "$$\n",
    "I = A_0 + A_1 + A_2 + A_3 \\\\\n",
    "I = \\frac{(f(a) + f(x_1)) h}{2} + \\frac{(f(x_1) + f(x_2)) h}{2} + \\frac{(f(x_2) + f(x_3)) h}{2} + \\frac{(f(x_3) + f(b)) h}{2} \\\\\n",
    "I = h \\bigg(\\frac{f(a)}{2} + \\frac{f(x_1)}{2} + \\frac{f(x_1)}{2} + \\frac{f(x_2)}{2} + \\frac{f(x_2)}{2} + \\frac{f(x_3)}{2} + \\frac{f(x_3)}{2} + \\frac{f(b)}{2}\\bigg) \\\\\n",
    "I = h \\bigg(\\frac{f(a) + f(b)}{2} +f(x_1) + f(x_2) + f(x_3)\\bigg) \\\\\n",
    "\\\\\n",
    "I = h \\bigg( \\frac{f(a) + f(b)}{2} + \\sum_{i=1}^{n-1} f(a + i \\cdot h) \\bigg)\n",
    "$$"
   ]
  },
  {
   "cell_type": "code",
   "execution_count": 2,
   "metadata": {},
   "outputs": [],
   "source": [
    "# REGRA DOS TRAPÉZIOS ESTENDIDA (Implementação eficiente)\n",
    "# -------------------------------------------------------\n",
    "\n",
    "def integrate_trapz(func, a, b, n):\n",
    "    h = (b - a) / n\n",
    "    return h * (((func(a) + func(b)) / 2) + sum([func(a + i * h) for i in range(1, n)]))"
   ]
  }
 ],
 "metadata": {
  "kernelspec": {
   "display_name": "Python 3",
   "language": "python",
   "name": "python3"
  },
  "language_info": {
   "codemirror_mode": {
    "name": "ipython",
    "version": 3
   },
   "file_extension": ".py",
   "mimetype": "text/x-python",
   "name": "python",
   "nbconvert_exporter": "python",
   "pygments_lexer": "ipython3",
   "version": "3.8.5"
  }
 },
 "nbformat": 4,
 "nbformat_minor": 4
}
