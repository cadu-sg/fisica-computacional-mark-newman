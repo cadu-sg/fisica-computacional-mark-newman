{
 "cells": [
  {
   "cell_type": "markdown",
   "metadata": {},
   "source": [
    "#### Estimativa prática de erros para regra de Simpson\n",
    "\n",
    "A regra de Simpson é uma regra de integração de 3ª ordem, ou seja, ela é precisa até a ordem $O(h^3)$ e tem erro de ordem $O(h^4)$.\n",
    "\n",
    "Avaliaremos a integral sobre o intervalo de $x=a$ a $x=b$ usando a regra de Simpson duas vezes com diferentes parâmetros:\n",
    "- A 1ª integral usando um número de fatias $N_1$, com tamanho das fatias $h_1$ e resultado $I_1$\n",
    "- A 2ª integral usando um número de fatias $N_2 = 2 N_1$, com tamanho das fatias $h_2$ e resultado $I_2$\n",
    "\n",
    "Tamanho das fatias na 1ª integral\n",
    "$$ h_1 = \\frac{b - a}{N_1} $$\n",
    "\n",
    "Tamanho das fatias na 2ª integral\n",
    "$$ h_2 = \\frac{b - a}{N_2} = \\frac{1}{2} h_1 $$\n",
    "\n",
    "\n",
    "Como a ordem do erro da regra de Simpson é $O(h^4)$, o erro de aproximação é proporcional a $h^4$, então podêmos escrevê-lo como uma constante $c$ multiplicada por essa proporcionalidade\n",
    "\n",
    "O erro da 1ª integral pode ser escrito como:\n",
    "$$ \\epsilon_1 = ch_1^4 $$\n",
    "Logo\n",
    "$$ I = I_1 + ch_1^4 $$\n",
    "\n",
    "O erro da 2ª integral pode ser escrito como:\n",
    "$$ \\epsilon_2 = ch_2^4 $$\n",
    "Logo\n",
    "$$ I = I_2 + ch_2^4 $$\n",
    "\n",
    "Igualando as duas equações que apresentam $I$ no lado esquerdo obtemos\n",
    "\n",
    "$$\n",
    "I_1 + ch_1^4 = I_2 + ch_2^4 \\\\\n",
    "I_2 - I_1 = ch_1^4 - ch_2^4\n",
    "$$\n",
    "\n",
    "Substituindo $h_1 = 2 h_2$\n",
    "$$\n",
    "\\begin{align}\n",
    "I_2 - I_1 &= c(2 h_2)^4 - ch_2^4 \\\\\n",
    "I_2 - I_1 &= 16 ch_2^4 - ch_2^4 \\\\\n",
    "I_2 - I_1 &= 15 ch_2^4\n",
    "\\end{align}\n",
    "$$\n",
    "\n",
    "Substituindo $\\epsilon_2 = ch_2^4$ e isolando esse termo\n",
    "$$\n",
    "I_2 - I_1 = 15 \\epsilon_2 \\\\\n",
    "\\epsilon_2 = \\frac{I_2 - I_1}{15}\n",
    "$$\n"
   ]
  }
 ],
 "metadata": {
  "kernelspec": {
   "display_name": "Python 3",
   "language": "python",
   "name": "python3"
  },
  "language_info": {
   "codemirror_mode": {
    "name": "ipython",
    "version": 3
   },
   "file_extension": ".py",
   "mimetype": "text/x-python",
   "name": "python",
   "nbconvert_exporter": "python",
   "pygments_lexer": "ipython3",
   "version": "3.8.5"
  }
 },
 "nbformat": 4,
 "nbformat_minor": 4
}
