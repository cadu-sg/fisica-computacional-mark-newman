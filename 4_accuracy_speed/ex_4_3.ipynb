{
 "cells": [
  {
   "cell_type": "markdown",
   "metadata": {},
   "source": [
    "### a)"
   ]
  },
  {
   "cell_type": "code",
   "execution_count": 4,
   "metadata": {},
   "outputs": [],
   "source": [
    "def derivative(func, x0, dx):\n",
    "    return (func(x0 + dx) - func(x0)) / dx"
   ]
  },
  {
   "cell_type": "code",
   "execution_count": 5,
   "metadata": {},
   "outputs": [],
   "source": [
    "def f(x):\n",
    "    return x * (x - 1)"
   ]
  },
  {
   "cell_type": "code",
   "execution_count": 6,
   "metadata": {},
   "outputs": [
    {
     "data": {
      "text/plain": [
       "1.010000000000001"
      ]
     },
     "execution_count": 6,
     "metadata": {},
     "output_type": "execute_result"
    }
   ],
   "source": [
    "derivative(f, 1, 0.01)"
   ]
  },
  {
   "cell_type": "markdown",
   "metadata": {},
   "source": [
    "$$\n",
    "f(x) = x (x - 1) \\\\\n",
    "\\frac{df}{dx} = 2x - 1 \\\\\n",
    "\\frac{df}{dx}(1) = 1\n",
    "$$\n",
    "\n"
   ]
  },
  {
   "cell_type": "markdown",
   "metadata": {},
   "source": [
    "Os resultados não são exatamente iguais por duas razões:\n",
    "- Não há como calcular limite no computadorm, então não há como fazer o valor de $dx$ tender a 0, logo o resultado não será exato como o calculado analiticamente.\n",
    "- O computador representa números reais como pontos flutuantes, os quais tem erro de aproximação."
   ]
  },
  {
   "cell_type": "markdown",
   "metadata": {},
   "source": [
    "### b)"
   ]
  },
  {
   "cell_type": "code",
   "execution_count": 7,
   "metadata": {},
   "outputs": [
    {
     "name": "stdout",
     "output_type": "stream",
     "text": [
      "1.0000999999998899\n",
      "1.0000009999177333\n",
      "1.0000000039225287\n",
      "1.000000082840371\n",
      "1.0000889005833413\n",
      "0.9992007221626509\n"
     ]
    }
   ],
   "source": [
    "print(derivative(f, 1, 1e-4))\n",
    "print(derivative(f, 1, 1e-6))\n",
    "print(derivative(f, 1, 1e-8))\n",
    "print(derivative(f, 1, 1e-10))\n",
    "print(derivative(f, 1, 1e-12))\n",
    "print(derivative(f, 1, 1e-14))"
   ]
  },
  {
   "cell_type": "markdown",
   "metadata": {},
   "source": [
    "O resultado fica melhor e então piora depois de certo ponto pois quanto menor o $\\delta$, mais próximos serão os números que estamos subtraindo para obter a derivada e maior será o erro de aproximação. Chega um ponto em que o erro de aproximação do resultado torna-se maior que o ganho de precisão ao diminuir $\\delta$."
   ]
  }
 ],
 "metadata": {
  "kernelspec": {
   "display_name": "Python 3",
   "language": "python",
   "name": "python3"
  },
  "language_info": {
   "codemirror_mode": {
    "name": "ipython",
    "version": 3
   },
   "file_extension": ".py",
   "mimetype": "text/x-python",
   "name": "python",
   "nbconvert_exporter": "python",
   "pygments_lexer": "ipython3",
   "version": "3.8.5"
  }
 },
 "nbformat": 4,
 "nbformat_minor": 4
}
