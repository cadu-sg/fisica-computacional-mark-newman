{
 "cells": [
  {
   "cell_type": "markdown",
   "metadata": {},
   "source": [
    "Computadores não podem armazenar números reais com um número infinito de casas decimais ou arbitráriamente grandes.\n",
    "\n"
   ]
  },
  {
   "cell_type": "code",
   "execution_count": 1,
   "metadata": {},
   "outputs": [
    {
     "name": "stdout",
     "output_type": "stream",
     "text": [
      "2.2250738585072014e-308\n",
      "1.7976931348623157e+308\n"
     ]
    }
   ],
   "source": [
    "import sys\n",
    "print(sys.float_info.min)\n",
    "print(sys.float_info.max)"
   ]
  },
  {
   "cell_type": "markdown",
   "metadata": {},
   "source": [
    "Se o valor de uma variável exceder o maior valor de ponto flutuante que pode ser armazenado para essa variável, dizemos que variável *transbordou*.\n",
    "\n",
    "Se o valor de uma variável querer atingir um valor menor que o mínimo representável por um ponto flutuante, ela simplesmente se tornará 0.\n",
    "\n",
    "Em Python, se uma variável transbordar, é atribuido a ela o valor especial `inf`, que significa infinito.\n",
    "\n",
    "Inteiros em Python tem precisão arbitrária"
   ]
  },
  {
   "cell_type": "markdown",
   "metadata": {},
   "source": [
    "### Erro de aproximação ($\\epsilon$)\n",
    "\n",
    "A diferença entre o valor verdadeiro de um número e o valor da sua representação no computador é chamado de erro de aproximação do número; é o quanto a representação do número no computador está errada.\n",
    "\n",
    "É geralmente uma boa aproximação considerar esse erro como sendo um número aleatório uniformemente distribuído com desvio padrão $\\sigma = C x$, onde $C \\simeq 10^{-16}$ nesse caso.\n",
    "\n",
    "Vamos nos referir à constante $C$ como a *constante de erro*. Ao citar o erro num cálculo nós tipocamente damos o valor do desvio padrão $\\sigma$. (Não podemos dar o próprio valor do erro $\\epsilon$, até porque se soubessemos, poderiamos subtraí-lo do resultado e obter o valor exato)."
   ]
  },
  {
   "cell_type": "markdown",
   "metadata": {},
   "source": [
    "### Operações com erro\n",
    "\n",
    "Se adicionarmos ou subtraírmos dois números $x_1$ e $x_2$, com desvios padrão $\\sigma_1$ e $\\sigma_2$, a *variância* $\\sigma^2$ da soma ou diferença é igual a soma das variâncias individuais:\n",
    "\n",
    "$$\n",
    "\\sigma^2 = \\sigma_1^2 + \\sigma_2^2\n",
    "$$\n",
    "\n",
    "Portanto o desvio padrão da soma ou diferença é:\n",
    "\n",
    "$$\n",
    "\\sigma = \\sqrt{\\sigma_1^2 + \\sigma_2^2}\n",
    "$$\n",
    "\n",
    "Porém, como discutido anteriormente, o desvio padrão de $x_1$ e $x_2$ é dado por $\\sigma_1 = C x_1$ e $\\sigma_2 = C x_2$, então, o desvio padrão da soma ou diferença fica:\n",
    "\n",
    "$$\n",
    "\\sigma = \\sqrt{C^2 x_1^2 + C^2 x_2^2} = C \\sqrt{x_1^2 + x_2^2}\n",
    "$$\n",
    "\n",
    "Desvio padrão do produto de dois números $x = x_1 x_2$ ou de sua razão $x = x_1 / x_2$:\n",
    "\n",
    "$$\n",
    "\\sigma = \\sqrt{2} C x\n",
    "$$\n",
    "\n",
    "Como podemos ver, o erro de aproximação se acumula ao fazermos combinações de números.\n",
    "\n",
    "Se a diferença entre dois números é muito pequena comparada ao erro de aproximação deles, o erro do resultado é consideravelmente grande."
   ]
  }
 ],
 "metadata": {
  "kernelspec": {
   "display_name": "Python 3",
   "language": "python",
   "name": "python3"
  },
  "language_info": {
   "codemirror_mode": {
    "name": "ipython",
    "version": 3
   },
   "file_extension": ".py",
   "mimetype": "text/x-python",
   "name": "python",
   "nbconvert_exporter": "python",
   "pygments_lexer": "ipython3",
   "version": "3.8.5"
  }
 },
 "nbformat": 4,
 "nbformat_minor": 4
}
