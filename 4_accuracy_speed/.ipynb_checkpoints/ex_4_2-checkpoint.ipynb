{
 "cells": [
  {
   "cell_type": "code",
   "execution_count": 1,
   "metadata": {},
   "outputs": [],
   "source": [
    "from math import sqrt"
   ]
  },
  {
   "cell_type": "code",
   "execution_count": 2,
   "metadata": {},
   "outputs": [
    {
     "name": "stdout",
     "output_type": "stream",
     "text": [
      "-9.999894245993346e-07\n",
      "-999999.999999\n"
     ]
    }
   ],
   "source": [
    "# Fórmula padrão\n",
    "\n",
    "def quadratic_formula_std(a, b, c):\n",
    "    d = b ** 2 - 4 * a * c\n",
    "    r1 = (-b + sqrt(d)) / (2 * a)\n",
    "    r2 = (-b - sqrt(d)) / (2 * a)\n",
    "    return (r1, r2)\n",
    "\n",
    "r1_std, r2_std = quadratic_formula_std(0.001, 1000, 0.001)\n",
    "print(r1_std)\n",
    "print(r2_std)"
   ]
  },
  {
   "cell_type": "code",
   "execution_count": 4,
   "metadata": {},
   "outputs": [
    {
     "name": "stdout",
     "output_type": "stream",
     "text": [
      "-1.000000000001e-06\n",
      "-1000010.5755125057\n"
     ]
    }
   ],
   "source": [
    "# Fórmula alternativa\n",
    "\n",
    "def quadratic_formula_alt(a, b, c):\n",
    "    d = b ** 2 - 4 * a * c\n",
    "    r1 = (2 * c) / (-b - sqrt(d))\n",
    "    r2 = (2 * c) / (-b + sqrt(d))\n",
    "    return (r1, r2)\n",
    "\n",
    "r1_alt, r2_alt = quadratic_formula_alt(0.001, 1000, 0.001)\n",
    "print(r1_alt)\n",
    "print(r2_alt)"
   ]
  },
  {
   "cell_type": "markdown",
   "metadata": {},
   "source": [
    "Observa-se que o resultado das raízes é diferente entre a fórmula usual e a alternativa."
   ]
  },
  {
   "cell_type": "code",
   "execution_count": 19,
   "metadata": {},
   "outputs": [
    {
     "name": "stdout",
     "output_type": "stream",
     "text": [
      "erro da formula padrao:\n",
      "erro r1 5.0000105754006656e-06\n",
      "erro r2 1.00000761449337e-06\n",
      "\n",
      "erro da formula alternativa:\n",
      "erro r1 4.999999999999e-06\n",
      "erro r2 10.575512505718507\n"
     ]
    }
   ],
   "source": [
    "r1 = -0.000006 # valor verdadeiro aproximado de r1\n",
    "r2 = -1000000  # valor verdadeiro aproximado de r2\n",
    "\n",
    "print('erro da formula padrao:')\n",
    "print('erro r1', abs(r1 - r1_std))\n",
    "print('erro r2', abs(r2 - r2_std), end='\\n\\n')\n",
    "\n",
    "print('erro da formula alternativa:')\n",
    "print('erro r1', abs(r1 - r1_alt))\n",
    "print('erro r2', abs(r2 - r2_alt))"
   ]
  },
  {
   "cell_type": "markdown",
   "metadata": {},
   "source": [
    "O erro de $r_1$ é um maior na fórmula padrão, e o erro de $r_2$ é maior na fórmula alternativa.\n",
    "\n",
    "Fórmula padrão:\n",
    "$$\n",
    "r_1 = \\frac{-10^3 + \\sqrt{10^6 - 4 \\cdot 10^{-6}}}{2 \\cdot 10^{-3}} \\\\\n",
    "r_2 = \\frac{-10^3 - \\sqrt{10^6 - 4 \\cdot 10^{-6}}}{2 \\cdot 10^{-3}}\n",
    "$$\n",
    "\n",
    "Fórmula alternativa:\n",
    "$$\n",
    "r_1 = \\frac{2 \\cdot 10^{-3}}{-10^3 - \\sqrt{10^6 - 4 \\cdot 10^{-6}}} \\\\\n",
    "r_2 = \\frac{2 \\cdot 10^{-3}}{-10^3 + \\sqrt{10^6 - 4 \\cdot 10^{-6}}}\n",
    "$$"
   ]
  },
  {
   "cell_type": "markdown",
   "metadata": {},
   "source": [
    "Isso ocorre porque o cálculo de $r_1$ na fórmula padrão e o cálculo de $r_2$ na fórmula alternativa envolvem a subtração de números muito próximos ($-10^3 + \\sqrt{10^6 - 4 \\cdot 10^{-6}}$), a qual resulta num valor com alto erro de aproximação.\n",
    "\n",
    "A subtração de números pontos flutuantes muito próximos gera um resultado com alto erro relativo. Apesar do erro da representação numérica no computador ser muito pequeno, ele se torna considerável se o valor verdadeiro a ser representado também for muito pequeno."
   ]
  },
  {
   "cell_type": "code",
   "execution_count": 10,
   "metadata": {},
   "outputs": [
    {
     "data": {
      "text/plain": [
       "999999.999996"
      ]
     },
     "execution_count": 10,
     "metadata": {},
     "output_type": "execute_result"
    }
   ],
   "source": [
    "a, b, c = 0.001, 1000, 0.001\n",
    "\n",
    "d = b ** 2 - 4 * a * c\n",
    "d"
   ]
  },
  {
   "cell_type": "code",
   "execution_count": null,
   "metadata": {},
   "outputs": [],
   "source": [
    "sqrt()"
   ]
  }
 ],
 "metadata": {
  "kernelspec": {
   "display_name": "Python 3",
   "language": "python",
   "name": "python3"
  },
  "language_info": {
   "codemirror_mode": {
    "name": "ipython",
    "version": 3
   },
   "file_extension": ".py",
   "mimetype": "text/x-python",
   "name": "python",
   "nbconvert_exporter": "python",
   "pygments_lexer": "ipython3",
   "version": "3.8.5"
  }
 },
 "nbformat": 4,
 "nbformat_minor": 4
}
