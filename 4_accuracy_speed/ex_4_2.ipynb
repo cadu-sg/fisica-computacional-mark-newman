{
 "cells": [
  {
   "cell_type": "markdown",
   "metadata": {},
   "source": [
    "## a)"
   ]
  },
  {
   "cell_type": "code",
   "execution_count": 1,
   "metadata": {},
   "outputs": [],
   "source": [
    "from math import sqrt"
   ]
  },
  {
   "cell_type": "code",
   "execution_count": 2,
   "metadata": {},
   "outputs": [
    {
     "name": "stdout",
     "output_type": "stream",
     "text": [
      "-9.999894245993346e-07\n",
      "-999999.999999\n"
     ]
    }
   ],
   "source": [
    "# Fórmula padrão\n",
    "\n",
    "def quadratic_formula_std(a, b, c):\n",
    "    d = b ** 2 - 4 * a * c\n",
    "    r1 = (-b + sqrt(d)) / (2 * a)\n",
    "    r2 = (-b - sqrt(d)) / (2 * a)\n",
    "    return (r1, r2)\n",
    "\n",
    "r1_std, r2_std = quadratic_formula_std(0.001, 1000, 0.001)\n",
    "print(r1_std)\n",
    "print(r2_std)"
   ]
  },
  {
   "cell_type": "code",
   "execution_count": 3,
   "metadata": {},
   "outputs": [
    {
     "name": "stdout",
     "output_type": "stream",
     "text": [
      "-1.000000000001e-06\n",
      "-1000010.5755125057\n"
     ]
    }
   ],
   "source": [
    "# Fórmula alternativa\n",
    "\n",
    "def quadratic_formula_alt(a, b, c):\n",
    "    d = b ** 2 - 4 * a * c\n",
    "    r1 = (2 * c) / (-b - sqrt(d))\n",
    "    r2 = (2 * c) / (-b + sqrt(d))\n",
    "    return (r1, r2)\n",
    "\n",
    "r1_alt, r2_alt = quadratic_formula_alt(0.001, 1000, 0.001)\n",
    "print(r1_alt)\n",
    "print(r2_alt)"
   ]
  },
  {
   "cell_type": "markdown",
   "metadata": {},
   "source": [
    "## b)"
   ]
  },
  {
   "cell_type": "code",
   "execution_count": 7,
   "metadata": {},
   "outputs": [
    {
     "name": "stdout",
     "output_type": "stream",
     "text": [
      "formula padrao\n",
      "erro absoluto r1: 5.0000105754006656e-06\n",
      "erro absoluto r2: 1.00000761449337e-06\n",
      "\n",
      "formula alternativa\n",
      "erro absoluto r1: 4.999999999999e-06\n",
      "erro absoluto r2: 10.575512505718507\n"
     ]
    }
   ],
   "source": [
    "r1 = -0.000006 # valor verdadeiro aproximado de r1\n",
    "r2 = -1000000  # valor verdadeiro aproximado de r2\n",
    "\n",
    "print('formula padrao')\n",
    "print('erro absoluto r1:', abs(r1 - r1_std))\n",
    "print('erro absoluto r2:', abs(r2 - r2_std), end='\\n\\n')\n",
    "\n",
    "print('formula alternativa')\n",
    "print('erro absoluto r1:', abs(r1 - r1_alt))\n",
    "print('erro absoluto r2:', abs(r2 - r2_alt))"
   ]
  },
  {
   "cell_type": "markdown",
   "metadata": {},
   "source": [
    "Observa-se que o erro de $r_1$ é maior na fórmula padrão e que o erro de $r_2$ é maior na fórmula alternativa.\n",
    "\n",
    "Fórmula padrão:\n",
    "$$\n",
    "r_1 = \\frac{-10^3 + \\sqrt{10^6 - 4 \\cdot 10^{-6}}}{2 \\cdot 10^{-3}} \\\\\n",
    "r_2 = \\frac{-10^3 - \\sqrt{10^6 - 4 \\cdot 10^{-6}}}{2 \\cdot 10^{-3}}\n",
    "$$\n",
    "\n",
    "Fórmula alternativa:\n",
    "$$\n",
    "r_1 = \\frac{2 \\cdot 10^{-3}}{-10^3 - \\sqrt{10^6 - 4 \\cdot 10^{-6}}} \\\\\n",
    "r_2 = \\frac{2 \\cdot 10^{-3}}{-10^3 + \\sqrt{10^6 - 4 \\cdot 10^{-6}}}\n",
    "$$"
   ]
  },
  {
   "cell_type": "markdown",
   "metadata": {},
   "source": [
    "Isso ocorre porque o cálculo de $r_1$ na fórmula padrão e o cálculo de $r_2$ na fórmula alternativa envolvem a subtração de números muito próximos ($-10^3 + \\sqrt{10^6 - 4 \\cdot 10^{-6}}$), que resulta num valor com alto erro relativo. Esse valor é usado para o resto do cálculo e propaga mais erros para o resultado final.\n",
    "\n",
    "A subtração de pontos flutuantes muito próximos gera um resultado com alto erro relativo pois, apesar do erro (absoluto) da representação como ponto flutuante ser muito pequeno, o valor verdadeiro a ser representado no resultado também é, de forma que a razão entre o erro absoluto e o valor verdadeiro é consideravelmente alta."
   ]
  },
  {
   "cell_type": "markdown",
   "metadata": {},
   "source": [
    "### c)"
   ]
  },
  {
   "cell_type": "markdown",
   "metadata": {},
   "source": [
    "O ideal é preferir usar equações para raízes que não envolvam subtrações no termo $-b \\pm \\sqrt{\\Delta}$, pois elas podem resultar em valores com alto erro relativo. Como a raíz quadrada é sempre positiva, então podemos usar $-b - \\sqrt{\\Delta}$ para haver sempre adição (adição de números negativos, no caso)."
   ]
  },
  {
   "cell_type": "code",
   "execution_count": 9,
   "metadata": {},
   "outputs": [
    {
     "name": "stdout",
     "output_type": "stream",
     "text": [
      "-1.000000000001e-06\n",
      "-999999.999999\n"
     ]
    }
   ],
   "source": [
    "def quadratic_formula(a, b, c):\n",
    "    d = b ** 2 - 4 * a * c    \n",
    "    r1 = (2 * c) / (-b - sqrt(d))\n",
    "    r2 = (-b - sqrt(d)) / (2 * a)\n",
    "    return (r1, r2)\n",
    "\n",
    "r1, r2 = quadratic_formula(0.001, 1000, 0.001)\n",
    "print(r1)\n",
    "print(r2)"
   ]
  }
 ],
 "metadata": {
  "kernelspec": {
   "display_name": "Python 3",
   "language": "python",
   "name": "python3"
  },
  "language_info": {
   "codemirror_mode": {
    "name": "ipython",
    "version": 3
   },
   "file_extension": ".py",
   "mimetype": "text/x-python",
   "name": "python",
   "nbconvert_exporter": "python",
   "pygments_lexer": "ipython3",
   "version": "3.8.5"
  }
 },
 "nbformat": 4,
 "nbformat_minor": 4
}
